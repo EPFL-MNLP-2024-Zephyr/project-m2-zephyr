{
 "cells": [
  {
   "cell_type": "code",
   "execution_count": 1,
   "id": "initial_id",
   "metadata": {
    "collapsed": true,
    "ExecuteTime": {
     "end_time": "2024-05-18T14:51:36.942298Z",
     "start_time": "2024-05-18T14:51:36.038022Z"
    }
   },
   "outputs": [],
   "source": [
    "import json\n",
    "import pandas as pd"
   ]
  },
  {
   "cell_type": "markdown",
   "source": [
    "# 1. Processing Preference Pairs Gathered from M1"
   ],
   "metadata": {
    "collapsed": false
   },
   "id": "f1ec2455a6262953"
  },
  {
   "cell_type": "markdown",
   "source": [
    "Collected data format: \n",
    "```json \n",
    "{\n",
    "    \"question_id\": <int>,\n",
    "    \"question_complete\": <str>,\n",
    "    \"course_id\": <int>,\n",
    "    \"preference\": [\n",
    "        {\n",
    "            \"A\": <str>,\n",
    "            \"B\": <str>,\n",
    "            \"overall\": <str>,\n",
    "            \"criteria\": {\n",
    "                \"overall\": <str>,\n",
    "                \"correctness\": <str>,\n",
    "                \"relevance\": <str>,\n",
    "                \"clarity\": <str>,\n",
    "                \"completeness\": <str>,\n",
    "                \"other\": <str>\n",
    "            }\n",
    "        },\n",
    "        ...\n",
    "    ]\n",
    "}\n",
    "```\n",
    "\n",
    "Processed data format:\n",
    "```json\n",
    "{\n",
    "    \"prompt\": \"...\",\n",
    "    \"chosen\": \"...\", \n",
    "    \"rejected\": \"...\"\n",
    "}\n",
    "```"
   ],
   "metadata": {
    "collapsed": false
   },
   "id": "f3d20e2692b1983a"
  },
  {
   "cell_type": "code",
   "outputs": [],
   "source": [
    "def process_preference_pairs(data):\n",
    "    processed_data = []\n",
    "    for d in data:\n",
    "        prompt = d[\"question_complete\"]\n",
    "        for p in d[\"preference\"]:\n",
    "            if p[\"overall\"] == \"A\":\n",
    "                chosen_option = \"A\"\n",
    "                rejected_option = \"B\"\n",
    "            elif p[\"overall\"] == \"B\":\n",
    "                chosen_option = \"B\"\n",
    "                rejected_option = \"A\" \n",
    "            else:  # skip if the overall preference is not A or B e.g. AB \n",
    "                continue\n",
    "                \n",
    "            if p[chosen_option] == \"...\" or p[rejected_option] == \"...\" or p[chosen_option] == \"\" or p[rejected_option] == \"\":\n",
    "                continue\n",
    "            processed_data.append({\n",
    "                \"prompt\": prompt,\n",
    "                \"chosen\": p[chosen_option],\n",
    "                \"rejected\": p[rejected_option]\n",
    "            })\n",
    "    \n",
    "    return processed_data"
   ],
   "metadata": {
    "collapsed": false,
    "ExecuteTime": {
     "end_time": "2024-05-18T14:51:36.958272Z",
     "start_time": "2024-05-18T14:51:36.944192Z"
    }
   },
   "id": "d9828f3517c935f7",
   "execution_count": 2
  },
  {
   "cell_type": "code",
   "outputs": [],
   "source": [
    "def load_data(file_path):\n",
    "    with open(file_path, \"r\") as f:\n",
    "        data = json.load(f)\n",
    "    return data"
   ],
   "metadata": {
    "collapsed": false,
    "ExecuteTime": {
     "end_time": "2024-05-18T14:51:36.974203Z",
     "start_time": "2024-05-18T14:51:36.959189Z"
    }
   },
   "id": "e7fa3224856489bd",
   "execution_count": 3
  },
  {
   "cell_type": "code",
   "outputs": [],
   "source": [
    "def convert_to_jsonl(data, file_path):\n",
    "    with open(file_path, \"w\") as f:\n",
    "        for d in data:\n",
    "            f.write(json.dumps(d) + \"\\n\")"
   ],
   "metadata": {
    "collapsed": false,
    "ExecuteTime": {
     "end_time": "2024-05-18T14:51:36.990191Z",
     "start_time": "2024-05-18T14:51:36.976193Z"
    }
   },
   "id": "bb3083e3ad5ffb5f",
   "execution_count": 4
  },
  {
   "cell_type": "code",
   "outputs": [
    {
     "data": {
      "text/plain": "      question_id                                  question_complete  \\\n0               0  Question: Consider the following contains func...   \n1               3  Question: What is the asymptotic work of <code...   \n2               4  Question: We have a collection of rectangles i...   \n3               5  Question: Which of the following scheduler pol...   \n4               7  Question: In this week's lecture, you have bee...   \n...           ...                                                ...   \n1517         7365  Question: Byzantine consistent broadcast (BCB)...   \n1518         7366  Question: If process i fails, then eventually ...   \n1519         7368  Question: What happens in the reliable broadca...   \n1520         7370  Question: Consider a network that is organized...   \n1521         7371  Question: Consider the transformation from bin...   \n\n      course_id                                         preference  \n0         15000  [{'A': 'The asymptotic depth of the contains f...  \n1         15000  [{'A': '...', 'B': '...', 'overall': 'A', 'cri...  \n2         15000  [{'A': 'Facts:\n- Rectangles in the plane have ...  \n3         15005  [{'A': 'Preemptive scheduling policies allow t...  \n4         15000  [{'A': 'For the computation g(g(1, x1), g(x2, ...  \n...         ...                                                ...  \n1517      15003  [{'A': 'In non-synchronous environments, intro...  \n1518      15003  [{'A': 'Yes, the statement is true. If process...  \n1519      15003  [{'A': 'If the completeness property of the fa...  \n1520      15003  [{'A': 'First, we can use a flooding algorithm...  \n1521      15004  [{'A': 'To prove that the transformation from ...  \n\n[1522 rows x 4 columns]",
      "text/html": "<div>\n<style scoped>\n    .dataframe tbody tr th:only-of-type {\n        vertical-align: middle;\n    }\n\n    .dataframe tbody tr th {\n        vertical-align: top;\n    }\n\n    .dataframe thead th {\n        text-align: right;\n    }\n</style>\n<table border=\"1\" class=\"dataframe\">\n  <thead>\n    <tr style=\"text-align: right;\">\n      <th></th>\n      <th>question_id</th>\n      <th>question_complete</th>\n      <th>course_id</th>\n      <th>preference</th>\n    </tr>\n  </thead>\n  <tbody>\n    <tr>\n      <th>0</th>\n      <td>0</td>\n      <td>Question: Consider the following contains func...</td>\n      <td>15000</td>\n      <td>[{'A': 'The asymptotic depth of the contains f...</td>\n    </tr>\n    <tr>\n      <th>1</th>\n      <td>3</td>\n      <td>Question: What is the asymptotic work of &lt;code...</td>\n      <td>15000</td>\n      <td>[{'A': '...', 'B': '...', 'overall': 'A', 'cri...</td>\n    </tr>\n    <tr>\n      <th>2</th>\n      <td>4</td>\n      <td>Question: We have a collection of rectangles i...</td>\n      <td>15000</td>\n      <td>[{'A': 'Facts:\n- Rectangles in the plane have ...</td>\n    </tr>\n    <tr>\n      <th>3</th>\n      <td>5</td>\n      <td>Question: Which of the following scheduler pol...</td>\n      <td>15005</td>\n      <td>[{'A': 'Preemptive scheduling policies allow t...</td>\n    </tr>\n    <tr>\n      <th>4</th>\n      <td>7</td>\n      <td>Question: In this week's lecture, you have bee...</td>\n      <td>15000</td>\n      <td>[{'A': 'For the computation g(g(1, x1), g(x2, ...</td>\n    </tr>\n    <tr>\n      <th>...</th>\n      <td>...</td>\n      <td>...</td>\n      <td>...</td>\n      <td>...</td>\n    </tr>\n    <tr>\n      <th>1517</th>\n      <td>7365</td>\n      <td>Question: Byzantine consistent broadcast (BCB)...</td>\n      <td>15003</td>\n      <td>[{'A': 'In non-synchronous environments, intro...</td>\n    </tr>\n    <tr>\n      <th>1518</th>\n      <td>7366</td>\n      <td>Question: If process i fails, then eventually ...</td>\n      <td>15003</td>\n      <td>[{'A': 'Yes, the statement is true. If process...</td>\n    </tr>\n    <tr>\n      <th>1519</th>\n      <td>7368</td>\n      <td>Question: What happens in the reliable broadca...</td>\n      <td>15003</td>\n      <td>[{'A': 'If the completeness property of the fa...</td>\n    </tr>\n    <tr>\n      <th>1520</th>\n      <td>7370</td>\n      <td>Question: Consider a network that is organized...</td>\n      <td>15003</td>\n      <td>[{'A': 'First, we can use a flooding algorithm...</td>\n    </tr>\n    <tr>\n      <th>1521</th>\n      <td>7371</td>\n      <td>Question: Consider the transformation from bin...</td>\n      <td>15004</td>\n      <td>[{'A': 'To prove that the transformation from ...</td>\n    </tr>\n  </tbody>\n</table>\n<p>1522 rows × 4 columns</p>\n</div>"
     },
     "execution_count": 5,
     "metadata": {},
     "output_type": "execute_result"
    }
   ],
   "source": [
    "pp_m1_json_file = \"raw_datasets/M1_preference_data_15052024.json\"\n",
    "pp_m1_jsonl_file = \"raw_datasets/M1_preference_data_15052024.jsonl\"\n",
    "pp_m1_data = load_data(pp_m1_json_file)\n",
    "\n",
    "df_pp_m1 = pd.DataFrame(pp_m1_data)\n",
    "df_pp_m1"
   ],
   "metadata": {
    "collapsed": false,
    "ExecuteTime": {
     "end_time": "2024-05-18T14:51:37.719188Z",
     "start_time": "2024-05-18T14:51:36.993187Z"
    }
   },
   "id": "2325521ba4cd306e",
   "execution_count": 5
  },
  {
   "cell_type": "code",
   "outputs": [
    {
     "data": {
      "text/plain": "                                                  prompt  \\\n0      Question: Consider the following contains func...   \n1      Question: Consider the following contains func...   \n2      Question: Consider the following contains func...   \n3      Question: Consider the following contains func...   \n4      Question: Consider the following contains func...   \n...                                                  ...   \n26636  Question: Consider the transformation from bin...   \n26637  Question: Consider the transformation from bin...   \n26638  Question: Consider the transformation from bin...   \n26639  Question: Consider the transformation from bin...   \n26640  Question: Consider the transformation from bin...   \n\n                                                  chosen  \\\n0      When `contains` is called on a List, the `drop...   \n1      To determine the asymptotic depth of the `cont...   \n2      To determine the asymptotic depth of the `cont...   \n3      To determine the asymptotic depth of the `cont...   \n4      The asymptotic depth of the contains function ...   \n...                                                  ...   \n26636  #### **Answer**: \\n\\nThe transformation from b...   \n26637  Consider the transformation from binary MRSW s...   \n26638  To prove that the transformation from binary M...   \n26639  To solve this problem, first, let's understand...   \n26640  To show that the transformation from binary MR...   \n\n                                                rejected  \n0      The asymptotic depth of the contains function ...  \n1      The asymptotic depth of the contains function ...  \n2      The asymptotic depth of the `contains` functio...  \n3      The contains function is a recursive function ...  \n4      When the contains function is called on a List...  \n...                                                  ...  \n26636  #### **Answer**:\\nThe transformation from bina...  \n26637  Let's consider the transformation from binary ...  \n26638  First, let's define the terms:\\n\\n- Binary MRS...  \n26639  Background Information:\\n- Triple Data Encrypt...  \n26640  To show that the transformation from binary MR...  \n\n[26613 rows x 3 columns]",
      "text/html": "<div>\n<style scoped>\n    .dataframe tbody tr th:only-of-type {\n        vertical-align: middle;\n    }\n\n    .dataframe tbody tr th {\n        vertical-align: top;\n    }\n\n    .dataframe thead th {\n        text-align: right;\n    }\n</style>\n<table border=\"1\" class=\"dataframe\">\n  <thead>\n    <tr style=\"text-align: right;\">\n      <th></th>\n      <th>prompt</th>\n      <th>chosen</th>\n      <th>rejected</th>\n    </tr>\n  </thead>\n  <tbody>\n    <tr>\n      <th>0</th>\n      <td>Question: Consider the following contains func...</td>\n      <td>When `contains` is called on a List, the `drop...</td>\n      <td>The asymptotic depth of the contains function ...</td>\n    </tr>\n    <tr>\n      <th>1</th>\n      <td>Question: Consider the following contains func...</td>\n      <td>To determine the asymptotic depth of the `cont...</td>\n      <td>The asymptotic depth of the contains function ...</td>\n    </tr>\n    <tr>\n      <th>2</th>\n      <td>Question: Consider the following contains func...</td>\n      <td>To determine the asymptotic depth of the `cont...</td>\n      <td>The asymptotic depth of the `contains` functio...</td>\n    </tr>\n    <tr>\n      <th>3</th>\n      <td>Question: Consider the following contains func...</td>\n      <td>To determine the asymptotic depth of the `cont...</td>\n      <td>The contains function is a recursive function ...</td>\n    </tr>\n    <tr>\n      <th>4</th>\n      <td>Question: Consider the following contains func...</td>\n      <td>The asymptotic depth of the contains function ...</td>\n      <td>When the contains function is called on a List...</td>\n    </tr>\n    <tr>\n      <th>...</th>\n      <td>...</td>\n      <td>...</td>\n      <td>...</td>\n    </tr>\n    <tr>\n      <th>26636</th>\n      <td>Question: Consider the transformation from bin...</td>\n      <td>#### **Answer**: \\n\\nThe transformation from b...</td>\n      <td>#### **Answer**:\\nThe transformation from bina...</td>\n    </tr>\n    <tr>\n      <th>26637</th>\n      <td>Question: Consider the transformation from bin...</td>\n      <td>Consider the transformation from binary MRSW s...</td>\n      <td>Let's consider the transformation from binary ...</td>\n    </tr>\n    <tr>\n      <th>26638</th>\n      <td>Question: Consider the transformation from bin...</td>\n      <td>To prove that the transformation from binary M...</td>\n      <td>First, let's define the terms:\\n\\n- Binary MRS...</td>\n    </tr>\n    <tr>\n      <th>26639</th>\n      <td>Question: Consider the transformation from bin...</td>\n      <td>To solve this problem, first, let's understand...</td>\n      <td>Background Information:\\n- Triple Data Encrypt...</td>\n    </tr>\n    <tr>\n      <th>26640</th>\n      <td>Question: Consider the transformation from bin...</td>\n      <td>To show that the transformation from binary MR...</td>\n      <td>To show that the transformation from binary MR...</td>\n    </tr>\n  </tbody>\n</table>\n<p>26613 rows × 3 columns</p>\n</div>"
     },
     "execution_count": 6,
     "metadata": {},
     "output_type": "execute_result"
    }
   ],
   "source": [
    "#Process the preference pairs\n",
    "pp_m1_jsonl_file = \"datasets/M1_preference_data_15052024.jsonl\"\n",
    "pp_m1_processed = process_preference_pairs(pp_m1_data)\n",
    "df_pp_m1_processed = pd.DataFrame(pp_m1_processed)\n",
    "df_pp_m1_processed.drop_duplicates(subset=[\"chosen\", \"rejected\"], inplace=True)\n",
    "\n",
    "# convert back to a list \n",
    "pp_m1_processed = df_pp_m1_processed.to_dict(orient=\"records\")\n",
    "convert_to_jsonl(pp_m1_processed, pp_m1_jsonl_file)\n",
    "\n",
    "df_pp_m1_processed"
   ],
   "metadata": {
    "collapsed": false,
    "ExecuteTime": {
     "end_time": "2024-05-18T14:51:39.803221Z",
     "start_time": "2024-05-18T14:51:37.721189Z"
    }
   },
   "id": "e641827a2707e83b",
   "execution_count": 6
  },
  {
   "cell_type": "markdown",
   "source": [
    "# 2. Process other datasets"
   ],
   "metadata": {
    "collapsed": false
   },
   "id": "70db236822c65ce2"
  },
  {
   "cell_type": "markdown",
   "source": [
    "## Stanford Human Preferences Dataset (SHP)\n",
    "\n",
    "Link: [https://huggingface.co/datasets/stanfordnlp/SHP](https://huggingface.co/datasets/stanfordnlp/SHP)\n",
    "\n",
    "- `post_id`: the ID of the Reddit post (string)\n",
    "- `domain`: the subreddit and split the example is drawn from, separated by an underscore (string)\n",
    "- `upvote_ratio`: the percent of votes received by the post that were positive (aka upvotes) (float)\n",
    "- `history`: the post title concatented to the post body (string)\n",
    "- `c_root_id_A`: the ID of comment A (string)\n",
    "- `c_root_id_B`: the ID of comment B (string)\n",
    "- `created_at_utc_A`: utc timestamp of when comment A was created (integer)\n",
    "- `created_at_utc_B`: utc timestamp of when comment B was created (integer)\n",
    "- `score_A`: (# positive votes - # negative votes + 1) received by comment A (integer)\n",
    "- `score_B`: (# positive votes - # negative votes + 1) received by comment B (integer)\n",
    "- `human_ref_A`: text of comment A (string)\n",
    "- `human_ref_B`: text of comment B (string)\n",
    "- `labels`: the preference label -- **it is 1 if A is preferred to B; 0 if B is preferred to A**. This was randomized such that the label distribution is roughly 50/50. (integer)\n",
    "- `seconds_difference`: how many seconds after the less preferred comment the more preferred one was created (will always be >= 0) (integer)\n",
    "- `score_ratio`: the ratio of the more preferred comment's score to the less preferred comment's score (will be >= 1) (float)"
   ],
   "metadata": {
    "collapsed": false
   },
   "id": "36567d4a8a77e533"
  },
  {
   "cell_type": "code",
   "outputs": [],
   "source": [
    "from datasets import load_dataset"
   ],
   "metadata": {
    "collapsed": false,
    "ExecuteTime": {
     "end_time": "2024-05-18T14:51:41.422673Z",
     "start_time": "2024-05-18T14:51:39.804192Z"
    }
   },
   "id": "1d962a841a7a72c8",
   "execution_count": 7
  },
  {
   "cell_type": "code",
   "outputs": [],
   "source": [
    "data_askengineers = load_dataset(\"stanfordnlp/shp\", data_dir=\"askengineers\")\n",
    "data_askphysics = load_dataset(\"stanfordnlp/shp\", data_dir=\"askphysics\")\n",
    "data_askscience = load_dataset(\"stanfordnlp/shp\", data_dir=\"askscience\")\n",
    "data_explainlikeimfive = load_dataset(\"stanfordnlp/shp\", data_dir=\"explainlikeimfive\")"
   ],
   "metadata": {
    "collapsed": false,
    "ExecuteTime": {
     "end_time": "2024-05-18T14:53:47.803724Z",
     "start_time": "2024-05-18T14:51:41.424480Z"
    }
   },
   "id": "1559e042ff293b09",
   "execution_count": 8
  },
  {
   "cell_type": "code",
   "outputs": [],
   "source": [
    "train_datasets = {\n",
    "    \"askengineers\": data_askengineers[\"train\"],\n",
    "    \"askphysics\": data_askphysics[\"train\"],\n",
    "    \"askscience\": data_askscience[\"train\"],\n",
    "    \"explainlikeimfive\": data_explainlikeimfive[\"train\"]\n",
    "}\n",
    "\n",
    "test_datasets = {\n",
    "    \"askengineers\": data_askengineers[\"test\"],\n",
    "    \"askphysics\": data_askphysics[\"test\"],\n",
    "    \"askscience\": data_askscience[\"test\"],\n",
    "    \"explainlikeimfive\": data_explainlikeimfive[\"test\"]\n",
    "}\n",
    "\n",
    "val_datasets = {\n",
    "    \"askengineers\": data_askengineers[\"validation\"],\n",
    "    \"askphysics\": data_askphysics[\"validation\"],\n",
    "    \"askscience\": data_askscience[\"validation\"],\n",
    "    \"explainlikeimfive\": data_explainlikeimfive[\"validation\"]\n",
    "}"
   ],
   "metadata": {
    "collapsed": false,
    "ExecuteTime": {
     "end_time": "2024-05-18T14:53:47.819356Z",
     "start_time": "2024-05-18T14:53:47.805355Z"
    }
   },
   "id": "bccb02919eb2e1d6",
   "execution_count": 9
  },
  {
   "cell_type": "code",
   "outputs": [
    {
     "name": "stdout",
     "output_type": "stream",
     "text": [
      "Infos for train datasets\n",
      "Number of samples in askengineers: 57096\n",
      "Number of samples in askphysics: 7364\n",
      "Number of samples in askscience: 13316\n",
      "Number of samples in explainlikeimfive: 19592\n",
      "\n",
      "Infos for test datasets\n",
      "Number of samples in askengineers: 2638\n",
      "Number of samples in askphysics: 587\n",
      "Number of samples in askscience: 977\n",
      "Number of samples in explainlikeimfive: 1070\n",
      "\n",
      "Infos for validation datasets\n",
      "Number of samples in askengineers: 3154\n",
      "Number of samples in askphysics: 409\n",
      "Number of samples in askscience: 899\n",
      "Number of samples in explainlikeimfive: 1014\n"
     ]
    }
   ],
   "source": [
    "# Print infos about the datasets\n",
    "print(\"Infos for train datasets\")\n",
    "for k, v in train_datasets.items():\n",
    "    print(f\"Number of samples in {k}: {len(v)}\")\n",
    "    \n",
    "print(\"\\nInfos for test datasets\")\n",
    "for k, v in test_datasets.items():\n",
    "    print(f\"Number of samples in {k}: {len(v)}\")\n",
    "    \n",
    "print(\"\\nInfos for validation datasets\")\n",
    "for k, v in val_datasets.items():\n",
    "    print(f\"Number of samples in {k}: {len(v)}\")"
   ],
   "metadata": {
    "collapsed": false,
    "ExecuteTime": {
     "end_time": "2024-05-18T14:53:47.835395Z",
     "start_time": "2024-05-18T14:53:47.821357Z"
    }
   },
   "id": "3e0d49b1937c7b62",
   "execution_count": 10
  },
  {
   "cell_type": "code",
   "outputs": [
    {
     "data": {
      "text/plain": "{'post_id': 'ixovda',\n 'domain': 'askengineers_train',\n 'upvote_ratio': 0.98,\n 'history': 'Who else loves talking with Machinists? Just getting a quick poll of who loves diving into technical conversations with machinists? Sometimes I feel like they\\'re the only one\\'s who actually know what\\'s going on and can be responsible for the success of a project. I find it so refreshing to talk to them and practice my technical communication - which sometimes is like speaking another language.   &#x200B;  I guess for any college students or interns reading this, a take away would be: make friends with your machinist/fab shop. These guys will help you interpret your own drawing, make \"oh shit\" parts and fixes on the fly, and offer deep insight that will make you a better engineer/designer.',\n 'c_root_id_A': 'g681ikv',\n 'c_root_id_B': 'g681eun',\n 'created_at_utc_A': 1600789307,\n 'created_at_utc_B': 1600789257,\n 'score_A': 305,\n 'score_B': 141,\n 'human_ref_A': 'The master machinist on our shop floor is single-handedly one of the brightest individuals I\\'ve ever met in my life: calm, very logical, easy-going, and extremely grounded. The guy looks like a heavily-tattooed Gandalf; I definitely enjoy having technical discussions with somebody who literally embodies the word \"wizard\"',\n 'human_ref_B': \"Yes, and:  * Sometimes they have better understanding of the key issues than engineers and it's important to listen to them.  Sometimes they have wacko ideas that aren't based on sound physics/engineering.  Listening to both and separating out which make sense and which don't, sometimes with more research, can be a great way to hone your critical thinking skills.   * Listening to them when they want to talk, even when you don't want to listen to them, can be be a way of developing a relationship that you can draw on when you need something done, or need help figuring out a problem.  * Some of them just have great stories that you should listen to regardless of any business purpose.  Around me, there have been business shut down that used to employ lots of them.  I've run into them in strange places: shuttle driver for my auto dealership, u-haul staff helping hitch up a trailer.  Good people doing jobs they are *way* overqualified for.\",\n 'labels': 1,\n 'seconds_difference': 50.0,\n 'score_ratio': 2.1631205674}"
     },
     "execution_count": 11,
     "metadata": {},
     "output_type": "execute_result"
    }
   ],
   "source": [
    "# Example of a sample\n",
    "train_datasets[\"askengineers\"][0]"
   ],
   "metadata": {
    "collapsed": false,
    "ExecuteTime": {
     "end_time": "2024-05-18T14:53:47.851386Z",
     "start_time": "2024-05-18T14:53:47.838359Z"
    }
   },
   "id": "f22b5a938fc5d579",
   "execution_count": 11
  },
  {
   "cell_type": "code",
   "outputs": [],
   "source": [
    "def process_shp_sub_dataset(dataset):\n",
    "    processed_data = []\n",
    "    for d in dataset:\n",
    "        prompt = d[\"history\"]\n",
    "        if d[\"labels\"] == 1:\n",
    "            chosen_option = \"human_ref_A\"\n",
    "            rejected_option = \"human_ref_B\"\n",
    "        elif d[\"labels\"] == 0:\n",
    "            chosen_option = \"human_ref_B\"\n",
    "            rejected_option = \"human_ref_A\"\n",
    "        else:  # skip if the overall preference is not A or B e.g. AB \n",
    "            continue\n",
    "            \n",
    "        processed_data.append({\n",
    "            \"prompt\": prompt,\n",
    "            \"chosen\": d[chosen_option],\n",
    "            \"rejected\": d[rejected_option]\n",
    "        })\n",
    "    return processed_data"
   ],
   "metadata": {
    "collapsed": false,
    "ExecuteTime": {
     "end_time": "2024-05-18T14:53:47.867358Z",
     "start_time": "2024-05-18T14:53:47.853356Z"
    }
   },
   "id": "57d614c82d087f6b",
   "execution_count": 12
  },
  {
   "cell_type": "code",
   "outputs": [],
   "source": [
    "processed_training_data = {\n",
    "    \"askengineers\": process_shp_sub_dataset(train_datasets[\"askengineers\"]),\n",
    "    \"askphysics\": process_shp_sub_dataset(train_datasets[\"askphysics\"]),\n",
    "    \"askscience\": process_shp_sub_dataset(train_datasets[\"askscience\"]),\n",
    "    \"explainlikeimfive\": process_shp_sub_dataset(train_datasets[\"explainlikeimfive\"])\n",
    "}\n",
    "\n",
    "processed_test_data = {\n",
    "    \"askengineers\": process_shp_sub_dataset(test_datasets[\"askengineers\"]),\n",
    "    \"askphysics\": process_shp_sub_dataset(test_datasets[\"askphysics\"]),\n",
    "    \"askscience\": process_shp_sub_dataset(test_datasets[\"askscience\"]),\n",
    "    \"explainlikeimfive\": process_shp_sub_dataset(test_datasets[\"explainlikeimfive\"])\n",
    "}\n",
    "\n",
    "processed_val_data = {\n",
    "    \"askengineers\": process_shp_sub_dataset(val_datasets[\"askengineers\"]),\n",
    "    \"askphysics\": process_shp_sub_dataset(val_datasets[\"askphysics\"]),\n",
    "    \"askscience\": process_shp_sub_dataset(val_datasets[\"askscience\"]),\n",
    "    \"explainlikeimfive\": process_shp_sub_dataset(val_datasets[\"explainlikeimfive\"])\n",
    "}"
   ],
   "metadata": {
    "collapsed": false,
    "ExecuteTime": {
     "end_time": "2024-05-18T14:54:07.472358Z",
     "start_time": "2024-05-18T14:53:47.870359Z"
    }
   },
   "id": "ed0c9825bcc4828a",
   "execution_count": 13
  },
  {
   "cell_type": "code",
   "outputs": [
    {
     "data": {
      "text/plain": "{'prompt': 'Is there any reason for the alphabet being in the order its in?',\n 'chosen': 'Short answer: maybe, maybe not. No one is sure.   Longer answer: The alphabet we use today is something that evolved over ~3,000 years, through 4 iterations minimum:   Phoenician ⇒ Greek ⇒ Latin ⇒ modern languages with letters like J, W, and ß, as well as diacriticals like å and diphthongs like œ.   As a result, there’s no one answer for where the order for a given modern language comes from. The alphabet for English is different from that of French, or Swedish, or Polish. Consider the Hungarian alphabet, which looks like this:  a, á, b, c, cs, d, dz, dzs, e, é, f, g, gy, h, i, í, j, k, l, ly, m, n, ny, o, ó, ö, ő, p, q, r, s, sz, t, ty, u, ú, ü, û, v, w, x, y, z, zs  Now, we can look at that and see that the basic order of the Latin alphabet remains. The additions are just stuck in after the related letters whose sounds they modify. As with English, we have the Latin alphabetical order, plus the later medieval insertions of j and w. The insertions are obvious and easy, because they simply follow the letters they were invented to modify/clarify.   But for the Latin order, it’s trickier. Latin is a blend of Etruscan and Greek, and they adopted neither wholesale. For example, Etruscan had 3 letters for what we would think of a ‘k’ sounds today: C, Q, and K (probably ‘kay’, ‘qoo’ and ‘ka’ but this is a guess since Etruscan remains untranslated). G was a lesser-used sound in Etruscan, but /k/ was very important, so they invented C from G, swapped kappa and gamma in the order, then inserted the ‘other’ k sound further down the line from Ϙ or qoppa , a pre-standardized Greek letter used in some cities.   Long story short, there’s some interesting linguistics research that suggests certain groupings of letters were created intentionally by different groups at different times, and then just kept out of habit by adopters.   So for example, the Beth Gimel Dat sequencing mentioned in a number of other posts was adopted directly into Greek as Beta Gamma Delta, but then the Gamma was replaced with C in Latin.   EDIT: Thanks for the gold, kind stranger!',\n 'rejected': \"Hindi alphabets are ordered in two different categories: all vowels preceeds the order followed by all the consonants. The ordering is very clever and when you speak in the order, you can notice the subtle movements of the tongue and muscles in a particular way.   For example, the first four consonants are 'Ka', 'Kha', 'Ga', 'Gha'. When you pronounce it you see your tongue rises with every alphabet.  See this chart for all the consonants in order.  Edit: A word.\"}"
     },
     "execution_count": 20,
     "metadata": {},
     "output_type": "execute_result"
    }
   ],
   "source": [
    "processed_test_data[\"askscience\"][0]"
   ],
   "metadata": {
    "collapsed": false,
    "ExecuteTime": {
     "end_time": "2024-05-18T14:58:17.604637Z",
     "start_time": "2024-05-18T14:58:17.587635Z"
    }
   },
   "id": "fd04682c6961ead0",
   "execution_count": 20
  },
  {
   "cell_type": "code",
   "outputs": [
    {
     "name": "stdout",
     "output_type": "stream",
     "text": [
      "Processed training data\n",
      "Number of samples in askengineers: 57096\n",
      "Number of samples in askphysics: 7364\n",
      "Number of samples in askscience: 13316\n",
      "Number of samples in explainlikeimfive: 19592\n",
      "\n",
      "Processed test data\n",
      "Number of samples in askengineers: 2638\n",
      "Number of samples in askphysics: 587\n",
      "Number of samples in askscience: 977\n",
      "Number of samples in explainlikeimfive: 1070\n",
      "\n",
      "Processed validation data\n",
      "Number of samples in askengineers: 3154\n",
      "Number of samples in askphysics: 409\n",
      "Number of samples in askscience: 899\n",
      "Number of samples in explainlikeimfive: 1014\n"
     ]
    }
   ],
   "source": [
    "print(\"Processed training data\")\n",
    "for k, v in processed_training_data.items():\n",
    "    print(f\"Number of samples in {k}: {len(v)}\")\n",
    "    \n",
    "print(\"\\nProcessed test data\")\n",
    "for k, v in processed_test_data.items():\n",
    "    print(f\"Number of samples in {k}: {len(v)}\")\n",
    "    \n",
    "print(\"\\nProcessed validation data\")\n",
    "for k, v in processed_val_data.items():\n",
    "    print(f\"Number of samples in {k}: {len(v)}\")"
   ],
   "metadata": {
    "collapsed": false,
    "ExecuteTime": {
     "end_time": "2024-05-18T14:54:07.488355Z",
     "start_time": "2024-05-18T14:54:07.476383Z"
    }
   },
   "id": "8c3a2acad4051b7",
   "execution_count": 14
  },
  {
   "cell_type": "code",
   "outputs": [],
   "source": [
    "# Convert to jsonl\n",
    "training_paths = {\n",
    "    \"askengineers\": \"datasets/askengineers_train.jsonl\",\n",
    "    \"askphysics\": \"datasets/askphysics_train.jsonl\",\n",
    "    \"askscience\": \"datasets/askscience_train.jsonl\",\n",
    "    \"explainlikeimfive\": \"datasets/explainlikeimfive_train.jsonl\"\n",
    "}\n",
    "\n",
    "test_paths = {\n",
    "    \"askengineers\": \"datasets/askengineers_test.jsonl\",\n",
    "    \"askphysics\": \"datasets/askphysics_test.jsonl\",\n",
    "    \"askscience\": \"datasets/askscience_test.jsonl\",\n",
    "    \"explainlikeimfive\": \"datasets/explainlikeimfive_test.jsonl\"\n",
    "}\n",
    "\n",
    "val_paths = {\n",
    "    \"askengineers\": \"datasets/askengineers_val.jsonl\",\n",
    "    \"askphysics\": \"datasets/askphysics_val.jsonl\",\n",
    "    \"askscience\": \"datasets/askscience_val.jsonl\",\n",
    "    \"explainlikeimfive\": \"datasets/explainlikeimfive_val.jsonl\"\n",
    "}"
   ],
   "metadata": {
    "collapsed": false,
    "ExecuteTime": {
     "end_time": "2024-05-18T14:54:07.504384Z",
     "start_time": "2024-05-18T14:54:07.490354Z"
    }
   },
   "id": "7e53c33e4228cd36",
   "execution_count": 15
  },
  {
   "cell_type": "code",
   "outputs": [],
   "source": [
    "for k, v in processed_training_data.items():\n",
    "    convert_to_jsonl(v, training_paths[k])\n",
    "    \n",
    "for k, v in processed_test_data.items():\n",
    "    convert_to_jsonl(v, test_paths[k])\n",
    "    \n",
    "for k, v in processed_val_data.items():\n",
    "    convert_to_jsonl(v, val_paths[k])"
   ],
   "metadata": {
    "collapsed": false,
    "ExecuteTime": {
     "end_time": "2024-05-18T14:59:18.310452Z",
     "start_time": "2024-05-18T14:59:14.316706Z"
    }
   },
   "id": "18ad94a425f15a63",
   "execution_count": 21
  },
  {
   "cell_type": "code",
   "outputs": [],
   "source": [],
   "metadata": {
    "collapsed": false
   },
   "id": "668d46729d6ff6c3"
  }
 ],
 "metadata": {
  "kernelspec": {
   "display_name": "Python 3",
   "language": "python",
   "name": "python3"
  },
  "language_info": {
   "codemirror_mode": {
    "name": "ipython",
    "version": 2
   },
   "file_extension": ".py",
   "mimetype": "text/x-python",
   "name": "python",
   "nbconvert_exporter": "python",
   "pygments_lexer": "ipython2",
   "version": "2.7.6"
  }
 },
 "nbformat": 4,
 "nbformat_minor": 5
}
