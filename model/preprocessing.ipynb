{
 "cells": [
  {
   "cell_type": "markdown",
   "source": [
    "# 1. Processing Preference Pairs Gathered from M1"
   ],
   "metadata": {
    "collapsed": false
   },
   "id": "f1ec2455a6262953"
  },
  {
   "cell_type": "markdown",
   "source": [
    "Collected data format: \n",
    "```json \n",
    "{\n",
    "    \"question_id\": <int>,\n",
    "    \"question_complete\": <str>,\n",
    "    \"course_id\": <int>,\n",
    "    \"preference\": [\n",
    "        {\n",
    "            \"A\": <str>,\n",
    "            \"B\": <str>,\n",
    "            \"overall\": <str>,\n",
    "            \"criteria\": {\n",
    "                \"overall\": <str>,\n",
    "                \"correctness\": <str>,\n",
    "                \"relevance\": <str>,\n",
    "                \"clarity\": <str>,\n",
    "                \"completeness\": <str>,\n",
    "                \"other\": <str>\n",
    "            }\n",
    "        },\n",
    "        ...\n",
    "    ]\n",
    "}\n",
    "```\n",
    "\n",
    "Processed data format:\n",
    "```json\n",
    "{\n",
    "    \"prompt\": \"...\",\n",
    "    \"chosen\": \"...\", \n",
    "    \"rejected\": \"...\"\n",
    "}\n",
    "```"
   ],
   "metadata": {
    "collapsed": false
   },
   "id": "f3d20e2692b1983a"
  },
  {
   "cell_type": "code",
   "outputs": [],
   "source": [
    "import json\n",
    "import pandas as pd\n",
    "from sklearn.model_selection import train_test_split"
   ],
   "metadata": {
    "collapsed": true,
    "ExecuteTime": {
     "end_time": "2024-05-18T15:21:05.464807Z",
     "start_time": "2024-05-18T15:21:04.133373Z"
    }
   },
   "id": "initial_id",
   "execution_count": 1
  },
  {
   "cell_type": "code",
   "outputs": [],
   "source": [
    "def process_preference_pairs(data):\n",
    "    processed_data = []\n",
    "    for d in data:\n",
    "        prompt = d[\"question_complete\"]\n",
    "        for p in d[\"preference\"]:\n",
    "            if p[\"overall\"] == \"A\":\n",
    "                chosen_option = \"A\"\n",
    "                rejected_option = \"B\"\n",
    "            elif p[\"overall\"] == \"B\":\n",
    "                chosen_option = \"B\"\n",
    "                rejected_option = \"A\" \n",
    "            else:  # skip if the overall preference is not A or B e.g. AB \n",
    "                continue\n",
    "                \n",
    "            if p[chosen_option] == \"...\" or p[rejected_option] == \"...\" or p[chosen_option] == \"\" or p[rejected_option] == \"\":\n",
    "                continue\n",
    "            processed_data.append({\n",
    "                \"prompt\": prompt,\n",
    "                \"chosen\": p[chosen_option],\n",
    "                \"rejected\": p[rejected_option]\n",
    "            })\n",
    "    \n",
    "    return processed_data\n",
    "\n",
    "\n",
    "def load_data(file_path):\n",
    "    with open(file_path, \"r\") as f:\n",
    "        data = json.load(f)\n",
    "    return data\n",
    "\n",
    "\n",
    "def convert_to_jsonl(data, file_path):\n",
    "    with open(file_path, \"w\") as f:\n",
    "        for d in data:\n",
    "            f.write(json.dumps(d) + \"\\n\")"
   ],
   "metadata": {
    "collapsed": false,
    "ExecuteTime": {
     "end_time": "2024-05-18T15:21:06.261605Z",
     "start_time": "2024-05-18T15:21:06.247605Z"
    }
   },
   "id": "d9828f3517c935f7",
   "execution_count": 2
  },
  {
   "cell_type": "code",
   "outputs": [
    {
     "data": {
      "text/plain": "      question_id                                  question_complete  \\\n0               0  Question: Consider the following contains func...   \n1               3  Question: What is the asymptotic work of <code...   \n2               4  Question: We have a collection of rectangles i...   \n3               5  Question: Which of the following scheduler pol...   \n4               7  Question: In this week's lecture, you have bee...   \n...           ...                                                ...   \n1517         7365  Question: Byzantine consistent broadcast (BCB)...   \n1518         7366  Question: If process i fails, then eventually ...   \n1519         7368  Question: What happens in the reliable broadca...   \n1520         7370  Question: Consider a network that is organized...   \n1521         7371  Question: Consider the transformation from bin...   \n\n      course_id                                         preference  \n0         15000  [{'A': 'The asymptotic depth of the contains f...  \n1         15000  [{'A': '...', 'B': '...', 'overall': 'A', 'cri...  \n2         15000  [{'A': 'Facts:\n- Rectangles in the plane have ...  \n3         15005  [{'A': 'Preemptive scheduling policies allow t...  \n4         15000  [{'A': 'For the computation g(g(1, x1), g(x2, ...  \n...         ...                                                ...  \n1517      15003  [{'A': 'In non-synchronous environments, intro...  \n1518      15003  [{'A': 'Yes, the statement is true. If process...  \n1519      15003  [{'A': 'If the completeness property of the fa...  \n1520      15003  [{'A': 'First, we can use a flooding algorithm...  \n1521      15004  [{'A': 'To prove that the transformation from ...  \n\n[1522 rows x 4 columns]",
      "text/html": "<div>\n<style scoped>\n    .dataframe tbody tr th:only-of-type {\n        vertical-align: middle;\n    }\n\n    .dataframe tbody tr th {\n        vertical-align: top;\n    }\n\n    .dataframe thead th {\n        text-align: right;\n    }\n</style>\n<table border=\"1\" class=\"dataframe\">\n  <thead>\n    <tr style=\"text-align: right;\">\n      <th></th>\n      <th>question_id</th>\n      <th>question_complete</th>\n      <th>course_id</th>\n      <th>preference</th>\n    </tr>\n  </thead>\n  <tbody>\n    <tr>\n      <th>0</th>\n      <td>0</td>\n      <td>Question: Consider the following contains func...</td>\n      <td>15000</td>\n      <td>[{'A': 'The asymptotic depth of the contains f...</td>\n    </tr>\n    <tr>\n      <th>1</th>\n      <td>3</td>\n      <td>Question: What is the asymptotic work of &lt;code...</td>\n      <td>15000</td>\n      <td>[{'A': '...', 'B': '...', 'overall': 'A', 'cri...</td>\n    </tr>\n    <tr>\n      <th>2</th>\n      <td>4</td>\n      <td>Question: We have a collection of rectangles i...</td>\n      <td>15000</td>\n      <td>[{'A': 'Facts:\n- Rectangles in the plane have ...</td>\n    </tr>\n    <tr>\n      <th>3</th>\n      <td>5</td>\n      <td>Question: Which of the following scheduler pol...</td>\n      <td>15005</td>\n      <td>[{'A': 'Preemptive scheduling policies allow t...</td>\n    </tr>\n    <tr>\n      <th>4</th>\n      <td>7</td>\n      <td>Question: In this week's lecture, you have bee...</td>\n      <td>15000</td>\n      <td>[{'A': 'For the computation g(g(1, x1), g(x2, ...</td>\n    </tr>\n    <tr>\n      <th>...</th>\n      <td>...</td>\n      <td>...</td>\n      <td>...</td>\n      <td>...</td>\n    </tr>\n    <tr>\n      <th>1517</th>\n      <td>7365</td>\n      <td>Question: Byzantine consistent broadcast (BCB)...</td>\n      <td>15003</td>\n      <td>[{'A': 'In non-synchronous environments, intro...</td>\n    </tr>\n    <tr>\n      <th>1518</th>\n      <td>7366</td>\n      <td>Question: If process i fails, then eventually ...</td>\n      <td>15003</td>\n      <td>[{'A': 'Yes, the statement is true. If process...</td>\n    </tr>\n    <tr>\n      <th>1519</th>\n      <td>7368</td>\n      <td>Question: What happens in the reliable broadca...</td>\n      <td>15003</td>\n      <td>[{'A': 'If the completeness property of the fa...</td>\n    </tr>\n    <tr>\n      <th>1520</th>\n      <td>7370</td>\n      <td>Question: Consider a network that is organized...</td>\n      <td>15003</td>\n      <td>[{'A': 'First, we can use a flooding algorithm...</td>\n    </tr>\n    <tr>\n      <th>1521</th>\n      <td>7371</td>\n      <td>Question: Consider the transformation from bin...</td>\n      <td>15004</td>\n      <td>[{'A': 'To prove that the transformation from ...</td>\n    </tr>\n  </tbody>\n</table>\n<p>1522 rows × 4 columns</p>\n</div>"
     },
     "execution_count": 3,
     "metadata": {},
     "output_type": "execute_result"
    }
   ],
   "source": [
    "pp_m1_json_file = \"raw_datasets/M1_preference_data_15052024.json\"\n",
    "pp_m1_jsonl_file = \"raw_datasets/M1_preference_data_15052024.jsonl\"\n",
    "pp_m1_data = load_data(pp_m1_json_file)\n",
    "\n",
    "df_pp_m1 = pd.DataFrame(pp_m1_data)\n",
    "df_pp_m1"
   ],
   "metadata": {
    "collapsed": false,
    "ExecuteTime": {
     "end_time": "2024-05-18T15:21:08.867831Z",
     "start_time": "2024-05-18T15:21:07.904946Z"
    }
   },
   "id": "2325521ba4cd306e",
   "execution_count": 3
  },
  {
   "cell_type": "code",
   "outputs": [],
   "source": [
    "# Process the preference pairs and remove duplicates\n",
    "pp_m1_processed = process_preference_pairs(pp_m1_data)\n",
    "df_pp_m1_processed = pd.DataFrame(pp_m1_processed)\n",
    "df_pp_m1_processed.drop_duplicates(subset=[\"chosen\", \"rejected\"], inplace=True)\n",
    "pp_m1_processed = df_pp_m1_processed.to_dict(orient=\"records\")"
   ],
   "metadata": {
    "collapsed": false,
    "ExecuteTime": {
     "end_time": "2024-05-18T15:21:12.712603Z",
     "start_time": "2024-05-18T15:21:12.397329Z"
    }
   },
   "id": "e641827a2707e83b",
   "execution_count": 4
  },
  {
   "cell_type": "code",
   "outputs": [],
   "source": [
    "# Split the data into train, test, and validation, with shuffle\n",
    "seed = 0\n",
    "train_size = 0.9\n",
    "val_size = 0.05\n",
    "test_size = 0.05\n",
    "pp_m1_train, pp_m1_temp = train_test_split(pp_m1_processed, test_size=(test_size + val_size), random_state=seed)\n",
    "pp_m1_val, pp_m1_test = train_test_split(pp_m1_temp, test_size=0.5, random_state=seed)"
   ],
   "metadata": {
    "collapsed": false,
    "ExecuteTime": {
     "end_time": "2024-05-18T15:22:21.407794Z",
     "start_time": "2024-05-18T15:22:21.392793Z"
    }
   },
   "id": "9b899e6617f4b3bb",
   "execution_count": 10
  },
  {
   "cell_type": "code",
   "outputs": [],
   "source": [
    "pp_m1_train_file = \"datasets/M1_preference_data_15052024_train.jsonl\"\n",
    "pp_m1_val_file = \"datasets/M1_preference_data_15052024_val.jsonl\"\n",
    "pp_m1_test_file = \"datasets/M1_preference_data_15052024_test.jsonl\"\n",
    "\n",
    "convert_to_jsonl(pp_m1_train, pp_m1_train_file)\n",
    "convert_to_jsonl(pp_m1_val, pp_m1_val_file)\n",
    "convert_to_jsonl(pp_m1_test, pp_m1_test_file)\n",
    "\n",
    "df_pp_m1_train = pd.DataFrame(pp_m1_train)\n",
    "df_pp_m1_val = pd.DataFrame(pp_m1_val)\n",
    "df_pp_m1_test = pd.DataFrame(pp_m1_test)"
   ],
   "metadata": {
    "collapsed": false,
    "ExecuteTime": {
     "end_time": "2024-05-18T15:22:28.439638Z",
     "start_time": "2024-05-18T15:22:26.688637Z"
    }
   },
   "id": "e8d36bed96c07cec",
   "execution_count": 11
  },
  {
   "cell_type": "code",
   "outputs": [
    {
     "data": {
      "text/plain": "                                                  prompt  \\\n0      Question: A homogeneous, full, vertical wheel,...   \n1      Question: Does the disparity in class proporti...   \n2      Question: Select all true statements.A penalty...   \n3      Question: Consider the (toy) grammar $G$ consi...   \n4      Question: Why does Intel Itanium contain more ...   \n...                                                  ...   \n23946  Question: In class, we saw Karger's beautiful ...   \n23947  Question: Consider a system of two particles w...   \n23948  Question: We are given a data set $S=\\left\\{\\l...   \n23949  Question: Recall the Jaccard index that we saw...   \n23950  Question: Consider the following matrix-factor...   \n\n                                                  chosen  \\\n0      Sure! Let's find the velocity of the center of...   \n1      The disparity in class proportions does hurt t...   \n2      The true statements are:\\n1) The k-NN algorith...   \n3      In order to cope with simple number agreements...   \n4      Answer: Intel Itanium contains 128 general-pur...   \n...                                                  ...   \n23946  The main difference between Karger's algorithm...   \n23947  To find the probability of observing $+\\frac{\\...   \n23948  \\n\\nGiven that we are using a nearest neighbor...   \n23949  **Problem:**\\nDesign a locality-sensitive hash...   \n23950  To find the optimal value of $b_u$, we need to...   \n\n                                                rejected  \n0      Sure! Let's break down the problem step by ste...  \n1      The disparity in class proportions can hurt th...  \n2      Correct statements:\\n1) The k-NN algorithm is ...  \n3      To address the question of how many rules shou...  \n4      Answer: Intel Itanium contains more general-pu...  \n...                                                  ...  \n23946  Karger and Stein modified Karger's algorithm b...  \n23947  To solve this question, we need to find the st...  \n23948  Given a data set $S=\\left\\{\\left(\\boldsymbol{x...  \n23949  To design a Locality Sensitive Hashing (LSH) f...  \n23950  To find the optimal value of $b_{u}$, we diffe...  \n\n[23951 rows x 3 columns]",
      "text/html": "<div>\n<style scoped>\n    .dataframe tbody tr th:only-of-type {\n        vertical-align: middle;\n    }\n\n    .dataframe tbody tr th {\n        vertical-align: top;\n    }\n\n    .dataframe thead th {\n        text-align: right;\n    }\n</style>\n<table border=\"1\" class=\"dataframe\">\n  <thead>\n    <tr style=\"text-align: right;\">\n      <th></th>\n      <th>prompt</th>\n      <th>chosen</th>\n      <th>rejected</th>\n    </tr>\n  </thead>\n  <tbody>\n    <tr>\n      <th>0</th>\n      <td>Question: A homogeneous, full, vertical wheel,...</td>\n      <td>Sure! Let's find the velocity of the center of...</td>\n      <td>Sure! Let's break down the problem step by ste...</td>\n    </tr>\n    <tr>\n      <th>1</th>\n      <td>Question: Does the disparity in class proporti...</td>\n      <td>The disparity in class proportions does hurt t...</td>\n      <td>The disparity in class proportions can hurt th...</td>\n    </tr>\n    <tr>\n      <th>2</th>\n      <td>Question: Select all true statements.A penalty...</td>\n      <td>The true statements are:\\n1) The k-NN algorith...</td>\n      <td>Correct statements:\\n1) The k-NN algorithm is ...</td>\n    </tr>\n    <tr>\n      <th>3</th>\n      <td>Question: Consider the (toy) grammar $G$ consi...</td>\n      <td>In order to cope with simple number agreements...</td>\n      <td>To address the question of how many rules shou...</td>\n    </tr>\n    <tr>\n      <th>4</th>\n      <td>Question: Why does Intel Itanium contain more ...</td>\n      <td>Answer: Intel Itanium contains 128 general-pur...</td>\n      <td>Answer: Intel Itanium contains more general-pu...</td>\n    </tr>\n    <tr>\n      <th>...</th>\n      <td>...</td>\n      <td>...</td>\n      <td>...</td>\n    </tr>\n    <tr>\n      <th>23946</th>\n      <td>Question: In class, we saw Karger's beautiful ...</td>\n      <td>The main difference between Karger's algorithm...</td>\n      <td>Karger and Stein modified Karger's algorithm b...</td>\n    </tr>\n    <tr>\n      <th>23947</th>\n      <td>Question: Consider a system of two particles w...</td>\n      <td>To find the probability of observing $+\\frac{\\...</td>\n      <td>To solve this question, we need to find the st...</td>\n    </tr>\n    <tr>\n      <th>23948</th>\n      <td>Question: We are given a data set $S=\\left\\{\\l...</td>\n      <td>\\n\\nGiven that we are using a nearest neighbor...</td>\n      <td>Given a data set $S=\\left\\{\\left(\\boldsymbol{x...</td>\n    </tr>\n    <tr>\n      <th>23949</th>\n      <td>Question: Recall the Jaccard index that we saw...</td>\n      <td>**Problem:**\\nDesign a locality-sensitive hash...</td>\n      <td>To design a Locality Sensitive Hashing (LSH) f...</td>\n    </tr>\n    <tr>\n      <th>23950</th>\n      <td>Question: Consider the following matrix-factor...</td>\n      <td>To find the optimal value of $b_u$, we need to...</td>\n      <td>To find the optimal value of $b_{u}$, we diffe...</td>\n    </tr>\n  </tbody>\n</table>\n<p>23951 rows × 3 columns</p>\n</div>"
     },
     "execution_count": 12,
     "metadata": {},
     "output_type": "execute_result"
    }
   ],
   "source": [
    "df_pp_m1_train"
   ],
   "metadata": {
    "collapsed": false,
    "ExecuteTime": {
     "end_time": "2024-05-18T15:22:29.332893Z",
     "start_time": "2024-05-18T15:22:29.315859Z"
    }
   },
   "id": "30b9887f16378735",
   "execution_count": 12
  },
  {
   "cell_type": "code",
   "outputs": [
    {
     "data": {
      "text/plain": "                                                 prompt  \\\n0     Question: The exponent $\\lambda(21)$ of $\\math...   \n1     Question: Let $\\mathcal C_1$ be a linear code ...   \n2     Question: Assume you are working on a text edi...   \n3     Question: A neutral dielectric in the shape of...   \n4     Question: Let $H:\\{0,1\\}^* \\rightarrow \\{0,1\\}...   \n...                                                 ...   \n1326  Question: A multiset is an unordered collectio...   \n1327  Question: Which of the following measures will...   \n1328  Question: In the following let $\\kappa_{1}\\lef...   \n1329  Question: Let $X$ be a random variable distrib...   \n1330  Question: Consider a MAC defined by $\\mathsf{M...   \n\n                                                 chosen  \\\n0     Let's think step by step. \\n\\nFirst, we need t...   \n1     In coding theory, a linear code is a subspace ...   \n2     Absolutely! Here is another detailed and relev...   \n3     i) To determine the linked charges on the inte...   \n4     The correct option is: $2^{-n}$.\\n\\nExplanatio...   \n...                                                 ...   \n1326  To transform a given set `s` to a multiset whe...   \n1327  Answer: A) Reducing overheads imposed by the f...   \n1328  To show that $\\kappa\\left(\\mathbf{x}, \\mathbf{...   \n1329  Let's analyze this step by step:\\n\\n1. **Compu...   \n1330  To determine the complexity of a generic key r...   \n\n                                               rejected  \n0     C: 6. \\n\\nThe totient function $\\lambda(n)$ co...  \n1     To determine if $\\mathcal C_1 \\cup \\mathcal C_...  \n2     Your colleague may follow these steps to effic...  \n3     Step 1: Calculate the linked charge per unit l...  \n4     The correct option is:\\n\\n$2^{-n}$.\\n\\nIn cryp...  \n...                                                 ...  \n1326  To transform a set into a multiset where each ...  \n1327  Answer: A) Reducing overheads imposed by the f...  \n1328  To show that $\\kappa\\left(\\mathbf{x}, \\mathbf{...  \n1329  This is a true statement.\\n\\nGiven that $X$ is...  \n1330                                    Option 2: $2^k$  \n\n[1331 rows x 3 columns]",
      "text/html": "<div>\n<style scoped>\n    .dataframe tbody tr th:only-of-type {\n        vertical-align: middle;\n    }\n\n    .dataframe tbody tr th {\n        vertical-align: top;\n    }\n\n    .dataframe thead th {\n        text-align: right;\n    }\n</style>\n<table border=\"1\" class=\"dataframe\">\n  <thead>\n    <tr style=\"text-align: right;\">\n      <th></th>\n      <th>prompt</th>\n      <th>chosen</th>\n      <th>rejected</th>\n    </tr>\n  </thead>\n  <tbody>\n    <tr>\n      <th>0</th>\n      <td>Question: The exponent $\\lambda(21)$ of $\\math...</td>\n      <td>Let's think step by step. \\n\\nFirst, we need t...</td>\n      <td>C: 6. \\n\\nThe totient function $\\lambda(n)$ co...</td>\n    </tr>\n    <tr>\n      <th>1</th>\n      <td>Question: Let $\\mathcal C_1$ be a linear code ...</td>\n      <td>In coding theory, a linear code is a subspace ...</td>\n      <td>To determine if $\\mathcal C_1 \\cup \\mathcal C_...</td>\n    </tr>\n    <tr>\n      <th>2</th>\n      <td>Question: Assume you are working on a text edi...</td>\n      <td>Absolutely! Here is another detailed and relev...</td>\n      <td>Your colleague may follow these steps to effic...</td>\n    </tr>\n    <tr>\n      <th>3</th>\n      <td>Question: A neutral dielectric in the shape of...</td>\n      <td>i) To determine the linked charges on the inte...</td>\n      <td>Step 1: Calculate the linked charge per unit l...</td>\n    </tr>\n    <tr>\n      <th>4</th>\n      <td>Question: Let $H:\\{0,1\\}^* \\rightarrow \\{0,1\\}...</td>\n      <td>The correct option is: $2^{-n}$.\\n\\nExplanatio...</td>\n      <td>The correct option is:\\n\\n$2^{-n}$.\\n\\nIn cryp...</td>\n    </tr>\n    <tr>\n      <th>...</th>\n      <td>...</td>\n      <td>...</td>\n      <td>...</td>\n    </tr>\n    <tr>\n      <th>1326</th>\n      <td>Question: A multiset is an unordered collectio...</td>\n      <td>To transform a given set `s` to a multiset whe...</td>\n      <td>To transform a set into a multiset where each ...</td>\n    </tr>\n    <tr>\n      <th>1327</th>\n      <td>Question: Which of the following measures will...</td>\n      <td>Answer: A) Reducing overheads imposed by the f...</td>\n      <td>Answer: A) Reducing overheads imposed by the f...</td>\n    </tr>\n    <tr>\n      <th>1328</th>\n      <td>Question: In the following let $\\kappa_{1}\\lef...</td>\n      <td>To show that $\\kappa\\left(\\mathbf{x}, \\mathbf{...</td>\n      <td>To show that $\\kappa\\left(\\mathbf{x}, \\mathbf{...</td>\n    </tr>\n    <tr>\n      <th>1329</th>\n      <td>Question: Let $X$ be a random variable distrib...</td>\n      <td>Let's analyze this step by step:\\n\\n1. **Compu...</td>\n      <td>This is a true statement.\\n\\nGiven that $X$ is...</td>\n    </tr>\n    <tr>\n      <th>1330</th>\n      <td>Question: Consider a MAC defined by $\\mathsf{M...</td>\n      <td>To determine the complexity of a generic key r...</td>\n      <td>Option 2: $2^k$</td>\n    </tr>\n  </tbody>\n</table>\n<p>1331 rows × 3 columns</p>\n</div>"
     },
     "execution_count": 13,
     "metadata": {},
     "output_type": "execute_result"
    }
   ],
   "source": [
    "df_pp_m1_val"
   ],
   "metadata": {
    "collapsed": false,
    "ExecuteTime": {
     "end_time": "2024-05-18T15:22:30.487859Z",
     "start_time": "2024-05-18T15:22:30.473861Z"
    }
   },
   "id": "5e006ff6dcbba5a6",
   "execution_count": 13
  },
  {
   "cell_type": "code",
   "outputs": [
    {
     "data": {
      "text/plain": "                                                 prompt  \\\n0     Question: Through a freak accident ($^\\copyrig...   \n1     Question: Consider the source $S_1, S_2, \\dots...   \n2     Question: (Weight initialization) The choice o...   \n3     Question: Given two distributions $P_0$ and $P...   \n4     Question: If we have a $n$-bit key, the attack...   \n...                                                 ...   \n1326  Question: Let $X$ be a random variable distrib...   \n1327  Question: Consider an operation we will call s...   \n1328  Question: When searching for an entity 𝑒𝑛𝑒𝑤 th...   \n1329  Question: Two excellent students, Alice from E...   \n1330  Question: Devise an algorithm that, without co...   \n\n                                                 chosen  \\\n0     To estimate the force between two persons at a...   \n1     The source is not stationary.\\n\\nA stationary ...   \n2     To address the question of weight initializati...   \n3     Alright, let's break this down step by step.\\n...   \n4     To solve this problem, let's break it down int...   \n...                                                 ...   \n1326  The entropy of a discrete random variable $Y$ ...   \n1327  If the function \\( f \\) is associative, the re...   \n1328  Answer B can be explained in the following way...   \n1329  To design a randomized protocol for Alice and ...   \n1330  The algorithm that can implement a weaker spec...   \n\n                                               rejected  \n0     To estimate the force between two persons at a...  \n1     The source is not stationary. This can be seen...  \n2     The main topic of the question is whether the ...  \n3     The maximal advantage of a distinguisher utili...  \n4     To solve this question, we need to understand ...  \n...                                                 ...  \n1326  The entropy of a discrete random variable $W$ ...  \n1327  If the function \\( f \\) is associative, the re...  \n1328  Answer A:\\nWhen searching for an entity 𝑒𝑛𝑒𝑤 t...  \n1329  (i) Alice computes the message $m$ of $2$ bits...  \n1330  Understanding Weak Termination in NBAC:\\n\\n1. ...  \n\n[1331 rows x 3 columns]",
      "text/html": "<div>\n<style scoped>\n    .dataframe tbody tr th:only-of-type {\n        vertical-align: middle;\n    }\n\n    .dataframe tbody tr th {\n        vertical-align: top;\n    }\n\n    .dataframe thead th {\n        text-align: right;\n    }\n</style>\n<table border=\"1\" class=\"dataframe\">\n  <thead>\n    <tr style=\"text-align: right;\">\n      <th></th>\n      <th>prompt</th>\n      <th>chosen</th>\n      <th>rejected</th>\n    </tr>\n  </thead>\n  <tbody>\n    <tr>\n      <th>0</th>\n      <td>Question: Through a freak accident ($^\\copyrig...</td>\n      <td>To estimate the force between two persons at a...</td>\n      <td>To estimate the force between two persons at a...</td>\n    </tr>\n    <tr>\n      <th>1</th>\n      <td>Question: Consider the source $S_1, S_2, \\dots...</td>\n      <td>The source is not stationary.\\n\\nA stationary ...</td>\n      <td>The source is not stationary. This can be seen...</td>\n    </tr>\n    <tr>\n      <th>2</th>\n      <td>Question: (Weight initialization) The choice o...</td>\n      <td>To address the question of weight initializati...</td>\n      <td>The main topic of the question is whether the ...</td>\n    </tr>\n    <tr>\n      <th>3</th>\n      <td>Question: Given two distributions $P_0$ and $P...</td>\n      <td>Alright, let's break this down step by step.\\n...</td>\n      <td>The maximal advantage of a distinguisher utili...</td>\n    </tr>\n    <tr>\n      <th>4</th>\n      <td>Question: If we have a $n$-bit key, the attack...</td>\n      <td>To solve this problem, let's break it down int...</td>\n      <td>To solve this question, we need to understand ...</td>\n    </tr>\n    <tr>\n      <th>...</th>\n      <td>...</td>\n      <td>...</td>\n      <td>...</td>\n    </tr>\n    <tr>\n      <th>1326</th>\n      <td>Question: Let $X$ be a random variable distrib...</td>\n      <td>The entropy of a discrete random variable $Y$ ...</td>\n      <td>The entropy of a discrete random variable $W$ ...</td>\n    </tr>\n    <tr>\n      <th>1327</th>\n      <td>Question: Consider an operation we will call s...</td>\n      <td>If the function \\( f \\) is associative, the re...</td>\n      <td>If the function \\( f \\) is associative, the re...</td>\n    </tr>\n    <tr>\n      <th>1328</th>\n      <td>Question: When searching for an entity 𝑒𝑛𝑒𝑤 th...</td>\n      <td>Answer B can be explained in the following way...</td>\n      <td>Answer A:\\nWhen searching for an entity 𝑒𝑛𝑒𝑤 t...</td>\n    </tr>\n    <tr>\n      <th>1329</th>\n      <td>Question: Two excellent students, Alice from E...</td>\n      <td>To design a randomized protocol for Alice and ...</td>\n      <td>(i) Alice computes the message $m$ of $2$ bits...</td>\n    </tr>\n    <tr>\n      <th>1330</th>\n      <td>Question: Devise an algorithm that, without co...</td>\n      <td>The algorithm that can implement a weaker spec...</td>\n      <td>Understanding Weak Termination in NBAC:\\n\\n1. ...</td>\n    </tr>\n  </tbody>\n</table>\n<p>1331 rows × 3 columns</p>\n</div>"
     },
     "execution_count": 14,
     "metadata": {},
     "output_type": "execute_result"
    }
   ],
   "source": [
    "df_pp_m1_test"
   ],
   "metadata": {
    "collapsed": false,
    "ExecuteTime": {
     "end_time": "2024-05-18T15:22:31.033866Z",
     "start_time": "2024-05-18T15:22:31.015859Z"
    }
   },
   "id": "8f193aab972ee4ca",
   "execution_count": 14
  },
  {
   "cell_type": "markdown",
   "source": [
    "# 2. Process other datasets"
   ],
   "metadata": {
    "collapsed": false
   },
   "id": "70db236822c65ce2"
  },
  {
   "cell_type": "markdown",
   "source": [
    "## Stanford Human Preferences Dataset (SHP)\n",
    "\n",
    "Link: [https://huggingface.co/datasets/stanfordnlp/SHP](https://huggingface.co/datasets/stanfordnlp/SHP)\n",
    "\n",
    "- `post_id`: the ID of the Reddit post (string)\n",
    "- `domain`: the subreddit and split the example is drawn from, separated by an underscore (string)\n",
    "- `upvote_ratio`: the percent of votes received by the post that were positive (aka upvotes) (float)\n",
    "- `history`: the post title concatented to the post body (string)\n",
    "- `c_root_id_A`: the ID of comment A (string)\n",
    "- `c_root_id_B`: the ID of comment B (string)\n",
    "- `created_at_utc_A`: utc timestamp of when comment A was created (integer)\n",
    "- `created_at_utc_B`: utc timestamp of when comment B was created (integer)\n",
    "- `score_A`: (# positive votes - # negative votes + 1) received by comment A (integer)\n",
    "- `score_B`: (# positive votes - # negative votes + 1) received by comment B (integer)\n",
    "- `human_ref_A`: text of comment A (string)\n",
    "- `human_ref_B`: text of comment B (string)\n",
    "- `labels`: the preference label -- **it is 1 if A is preferred to B; 0 if B is preferred to A**. This was randomized such that the label distribution is roughly 50/50. (integer)\n",
    "- `seconds_difference`: how many seconds after the less preferred comment the more preferred one was created (will always be >= 0) (integer)\n",
    "- `score_ratio`: the ratio of the more preferred comment's score to the less preferred comment's score (will be >= 1) (float)"
   ],
   "metadata": {
    "collapsed": false
   },
   "id": "36567d4a8a77e533"
  },
  {
   "cell_type": "code",
   "outputs": [],
   "source": [
    "from datasets import load_dataset"
   ],
   "metadata": {
    "collapsed": false,
    "ExecuteTime": {
     "end_time": "2024-05-18T15:35:31.735039Z",
     "start_time": "2024-05-18T15:35:30.060716Z"
    }
   },
   "id": "1d962a841a7a72c8",
   "execution_count": 16
  },
  {
   "cell_type": "code",
   "outputs": [],
   "source": [
    "data_askengineers = load_dataset(\"stanfordnlp/shp\", data_dir=\"askengineers\")\n",
    "data_askphysics = load_dataset(\"stanfordnlp/shp\", data_dir=\"askphysics\")\n",
    "data_askscience = load_dataset(\"stanfordnlp/shp\", data_dir=\"askscience\")\n",
    "data_explainlikeimfive = load_dataset(\"stanfordnlp/shp\", data_dir=\"explainlikeimfive\")"
   ],
   "metadata": {
    "collapsed": false
   },
   "id": "1559e042ff293b09",
   "execution_count": null
  },
  {
   "cell_type": "code",
   "outputs": [],
   "source": [
    "train_datasets = {\n",
    "    \"askengineers\": data_askengineers[\"train\"],\n",
    "    \"askphysics\": data_askphysics[\"train\"],\n",
    "    \"askscience\": data_askscience[\"train\"],\n",
    "    \"explainlikeimfive\": data_explainlikeimfive[\"train\"]\n",
    "}\n",
    "\n",
    "test_datasets = {\n",
    "    \"askengineers\": data_askengineers[\"test\"],\n",
    "    \"askphysics\": data_askphysics[\"test\"],\n",
    "    \"askscience\": data_askscience[\"test\"],\n",
    "    \"explainlikeimfive\": data_explainlikeimfive[\"test\"]\n",
    "}\n",
    "\n",
    "val_datasets = {\n",
    "    \"askengineers\": data_askengineers[\"validation\"],\n",
    "    \"askphysics\": data_askphysics[\"validation\"],\n",
    "    \"askscience\": data_askscience[\"validation\"],\n",
    "    \"explainlikeimfive\": data_explainlikeimfive[\"validation\"]\n",
    "}"
   ],
   "metadata": {
    "collapsed": false
   },
   "id": "bccb02919eb2e1d6",
   "execution_count": null
  },
  {
   "cell_type": "code",
   "outputs": [],
   "source": [
    "# Print infos about the datasets\n",
    "print(\"Infos for train datasets\")\n",
    "for k, v in train_datasets.items():\n",
    "    print(f\"Number of samples in {k}: {len(v)}\")\n",
    "    \n",
    "print(\"\\nInfos for test datasets\")\n",
    "for k, v in test_datasets.items():\n",
    "    print(f\"Number of samples in {k}: {len(v)}\")\n",
    "    \n",
    "print(\"\\nInfos for validation datasets\")\n",
    "for k, v in val_datasets.items():\n",
    "    print(f\"Number of samples in {k}: {len(v)}\")"
   ],
   "metadata": {
    "collapsed": false
   },
   "id": "3e0d49b1937c7b62",
   "execution_count": null
  },
  {
   "cell_type": "code",
   "outputs": [],
   "source": [
    "# Example of a sample\n",
    "train_datasets[\"askengineers\"][0]"
   ],
   "metadata": {
    "collapsed": false
   },
   "id": "f22b5a938fc5d579",
   "execution_count": null
  },
  {
   "cell_type": "code",
   "outputs": [],
   "source": [
    "def process_shp_sub_dataset(dataset):\n",
    "    processed_data = []\n",
    "    for d in dataset:\n",
    "        prompt = d[\"history\"]\n",
    "        if d[\"labels\"] == 1:\n",
    "            chosen_option = \"human_ref_A\"\n",
    "            rejected_option = \"human_ref_B\"\n",
    "        elif d[\"labels\"] == 0:\n",
    "            chosen_option = \"human_ref_B\"\n",
    "            rejected_option = \"human_ref_A\"\n",
    "        else:  # skip if the overall preference is not A or B e.g. AB \n",
    "            continue\n",
    "            \n",
    "        processed_data.append({\n",
    "            \"prompt\": prompt,\n",
    "            \"chosen\": d[chosen_option],\n",
    "            \"rejected\": d[rejected_option]\n",
    "        })\n",
    "    return processed_data"
   ],
   "metadata": {
    "collapsed": false
   },
   "id": "57d614c82d087f6b",
   "execution_count": null
  },
  {
   "cell_type": "code",
   "outputs": [],
   "source": [
    "processed_training_data = {\n",
    "    \"askengineers\": process_shp_sub_dataset(train_datasets[\"askengineers\"]),\n",
    "    \"askphysics\": process_shp_sub_dataset(train_datasets[\"askphysics\"]),\n",
    "    \"askscience\": process_shp_sub_dataset(train_datasets[\"askscience\"]),\n",
    "    \"explainlikeimfive\": process_shp_sub_dataset(train_datasets[\"explainlikeimfive\"])\n",
    "}\n",
    "\n",
    "processed_test_data = {\n",
    "    \"askengineers\": process_shp_sub_dataset(test_datasets[\"askengineers\"]),\n",
    "    \"askphysics\": process_shp_sub_dataset(test_datasets[\"askphysics\"]),\n",
    "    \"askscience\": process_shp_sub_dataset(test_datasets[\"askscience\"]),\n",
    "    \"explainlikeimfive\": process_shp_sub_dataset(test_datasets[\"explainlikeimfive\"])\n",
    "}\n",
    "\n",
    "processed_val_data = {\n",
    "    \"askengineers\": process_shp_sub_dataset(val_datasets[\"askengineers\"]),\n",
    "    \"askphysics\": process_shp_sub_dataset(val_datasets[\"askphysics\"]),\n",
    "    \"askscience\": process_shp_sub_dataset(val_datasets[\"askscience\"]),\n",
    "    \"explainlikeimfive\": process_shp_sub_dataset(val_datasets[\"explainlikeimfive\"])\n",
    "}"
   ],
   "metadata": {
    "collapsed": false
   },
   "id": "ed0c9825bcc4828a",
   "execution_count": null
  },
  {
   "cell_type": "code",
   "outputs": [],
   "source": [
    "processed_test_data[\"askscience\"][0]"
   ],
   "metadata": {
    "collapsed": false
   },
   "id": "fd04682c6961ead0",
   "execution_count": null
  },
  {
   "cell_type": "code",
   "outputs": [],
   "source": [
    "print(\"Processed training data\")\n",
    "for k, v in processed_training_data.items():\n",
    "    print(f\"Number of samples in {k}: {len(v)}\")\n",
    "    \n",
    "print(\"\\nProcessed test data\")\n",
    "for k, v in processed_test_data.items():\n",
    "    print(f\"Number of samples in {k}: {len(v)}\")\n",
    "    \n",
    "print(\"\\nProcessed validation data\")\n",
    "for k, v in processed_val_data.items():\n",
    "    print(f\"Number of samples in {k}: {len(v)}\")"
   ],
   "metadata": {
    "collapsed": false
   },
   "id": "8c3a2acad4051b7",
   "execution_count": null
  },
  {
   "cell_type": "code",
   "outputs": [],
   "source": [
    "# Convert to jsonl\n",
    "training_paths = {\n",
    "    \"askengineers\": \"datasets/askengineers_train.jsonl\",\n",
    "    \"askphysics\": \"datasets/askphysics_train.jsonl\",\n",
    "    \"askscience\": \"datasets/askscience_train.jsonl\",\n",
    "    \"explainlikeimfive\": \"datasets/explainlikeimfive_train.jsonl\"\n",
    "}\n",
    "\n",
    "test_paths = {\n",
    "    \"askengineers\": \"datasets/askengineers_test.jsonl\",\n",
    "    \"askphysics\": \"datasets/askphysics_test.jsonl\",\n",
    "    \"askscience\": \"datasets/askscience_test.jsonl\",\n",
    "    \"explainlikeimfive\": \"datasets/explainlikeimfive_test.jsonl\"\n",
    "}\n",
    "\n",
    "val_paths = {\n",
    "    \"askengineers\": \"datasets/askengineers_val.jsonl\",\n",
    "    \"askphysics\": \"datasets/askphysics_val.jsonl\",\n",
    "    \"askscience\": \"datasets/askscience_val.jsonl\",\n",
    "    \"explainlikeimfive\": \"datasets/explainlikeimfive_val.jsonl\"\n",
    "}"
   ],
   "metadata": {
    "collapsed": false
   },
   "id": "7e53c33e4228cd36",
   "execution_count": null
  },
  {
   "cell_type": "code",
   "outputs": [],
   "source": [
    "for k, v in processed_training_data.items():\n",
    "    convert_to_jsonl(v, training_paths[k])\n",
    "    \n",
    "for k, v in processed_test_data.items():\n",
    "    convert_to_jsonl(v, test_paths[k])\n",
    "    \n",
    "for k, v in processed_val_data.items():\n",
    "    convert_to_jsonl(v, val_paths[k])"
   ],
   "metadata": {
    "collapsed": false
   },
   "id": "18ad94a425f15a63",
   "execution_count": null
  },
  {
   "cell_type": "markdown",
   "source": [
    "## orpo-dpo-mix-40k\n",
    "\n",
    "Link: [https://huggingface.co/datasets/mlabonne/orpo-dpo-mix-40k?row=1](https://huggingface.co/datasets/mlabonne/orpo-dpo-mix-40k?row=1) "
   ],
   "metadata": {
    "collapsed": false
   },
   "id": "266fdc96482fa9a9"
  },
  {
   "cell_type": "code",
   "outputs": [],
   "source": [
    "orpo_dpo_mix = load_dataset(\"mlabonne/orpo-dpo-mix-40k\")\n",
    "orpo_dpo_mix = orpo_dpo_mix.filter(lambda r: r[\"source\"] != \"toxic-dpo-v0.2\")"
   ],
   "metadata": {
    "collapsed": false,
    "ExecuteTime": {
     "end_time": "2024-05-18T15:56:19.818673Z",
     "start_time": "2024-05-18T15:56:11.119932Z"
    }
   },
   "id": "37451ed1aa150954",
   "execution_count": 42
  },
  {
   "cell_type": "code",
   "outputs": [],
   "source": [
    "orpo_dpo_mix = orpo_dpo_mix[\"train\"]"
   ],
   "metadata": {
    "collapsed": false,
    "ExecuteTime": {
     "end_time": "2024-05-18T15:56:19.834596Z",
     "start_time": "2024-05-18T15:56:19.822597Z"
    }
   },
   "id": "75ffbcf71b639cb1",
   "execution_count": 43
  },
  {
   "cell_type": "code",
   "outputs": [
    {
     "data": {
      "text/plain": "\"As you step onto the teleportation platform, there's a momentary sense of disorientation before your surroundings change abruptly. You find yourself standing on the outskirts of Zephyria, gazing at the sprawling metropolis that glows softly under the starlit canvas above. A gentle breeze, carrying hints of exotic fragrances from unknown flora, greets you. \\n\\nYou begin to walk along the radiant pathway, each cobblestone pulsating beneath your feet, resonating with a rhythm that seems almost alive. The cityscape ahead shimmers with countless shades of sapphire, amethyst, and turquoise, their reflections dancing upon the glassy surfaces of the spiraling towers around you. The air vibrates subtly with an underlying hum, a symphony of unseen energy sources powering this celestial city.\\n\\nApproaching one of the spiraling edifices, you reach out to touch its surface. It feels unexpectedly warm, humming slightly under your fingertips. Its translucent walls ripple with colors, revealing glimpses of life within - shadowy figures moving about, engaging in activities that seem both mundane and extraordinary.\\n\\nA creature, vaguely humanoid but adorned with shimmering scales and wings akin to a dragonfly’s, approaches you. It communicates not with words, but with melodic sounds and changing color patterns across its body. Somehow, you understand it is offering guidance, inviting you to follow. \\n\\nThrough winding streets and soaring archways, you traverse Zephyria. Each turn reveals new wonders: a marketplace where vendors sell luminous fruits and crystalline artifacts; a park filled with trees bearing glowing leaves and blossoms, radiating light like tiny stars; a grand amphitheater where harmonious tones fill the air, created by entities playing instruments resembling nothing you've seen before.\\n\\nYour guide leads you to a towering structure at the city's heart, the pinnacle disappearing into the swirling mists above. As you ascend, the city unfolds below in all its radiant glory. From this vantage point, Zephyria looks like a constellation fallen from the heavens, its brilliance undimmed.\\n\\nReaching the summit, you're greeted by a panorama of the cosmos. Stars twinkle like diamonds strewn across black velvet, galaxies swirl in distant corners, and comets streak across the vast expanse. Here, atop Zephyria, you stand at the precipice of infinity, feeling simultaneously insignificant and integral to the universe's grand tapestry.\\n\\nFinally, your guide beckons you towards a portal, shimmering like liquid silver. Stepping through, you feel a rush of cool air as you emerge onto a balcony jutting out into the void. Below, the city sparkles, while above, the cosmos stretches out endlessly. In this moment, suspended between the celestial city and the infinite universe, you experience a profound connection, a unity with everything that was, is, and will be.\\n\\nAs the reality of your journey settles in, you realize that Zephyria isn't just a city in the stars; it's a testament to imagination, a monument to the boundless potential of sentient beings. And even as you prepare to leave, stepping back onto the teleportation platform, you know that the memory of this ethereal city, hanging in the balance between dream and reality, will stay with you forever.\""
     },
     "execution_count": 44,
     "metadata": {},
     "output_type": "execute_result"
    }
   ],
   "source": [
    "orpo_dpo_mix[0][\"chosen\"][1][\"content\"]"
   ],
   "metadata": {
    "collapsed": false,
    "ExecuteTime": {
     "end_time": "2024-05-18T15:56:19.849598Z",
     "start_time": "2024-05-18T15:56:19.837595Z"
    }
   },
   "id": "d4dfb2a6d7311cb3",
   "execution_count": 44
  },
  {
   "cell_type": "code",
   "outputs": [],
   "source": [
    "def process_orpo_dpo_mix(dataset):\n",
    "    processed_data = []\n",
    "    for d in dataset:\n",
    "        processed_data.append({\n",
    "            \"prompt\": d[\"prompt\"],\n",
    "            \"chosen\": d[\"chosen\"][1][\"content\"],\n",
    "            \"rejected\": d[\"rejected\"][1][\"content\"]\n",
    "        })\n",
    "    return processed_data"
   ],
   "metadata": {
    "collapsed": false,
    "ExecuteTime": {
     "end_time": "2024-05-18T15:56:19.865638Z",
     "start_time": "2024-05-18T15:56:19.851599Z"
    }
   },
   "id": "b95ac574e51ba102",
   "execution_count": 45
  },
  {
   "cell_type": "code",
   "outputs": [],
   "source": [
    "processed_orpo_dpo_mix = process_orpo_dpo_mix(orpo_dpo_mix)\n",
    "orpo_dpo_train, orpo_dpo_temp = train_test_split(processed_orpo_dpo_mix, test_size=(test_size + val_size), random_state=seed)\n",
    "orpo_dpo_val, orpo_dpo_test = train_test_split(orpo_dpo_temp, test_size=0.5, random_state=seed)\n",
    "\n",
    "orpo_dpo_train_file = \"datasets/orpo_dpo_mix_train.jsonl\"\n",
    "orpo_dpo_val_file = \"datasets/orpo_dpo_mix_val.jsonl\"\n",
    "orpo_dpo_test_file = \"datasets/orpo_dpo_mix_test.jsonl\"\n",
    "\n",
    "convert_to_jsonl(orpo_dpo_train, orpo_dpo_train_file)\n",
    "convert_to_jsonl(orpo_dpo_val, orpo_dpo_val_file)\n",
    "convert_to_jsonl(orpo_dpo_test, orpo_dpo_test_file)"
   ],
   "metadata": {
    "collapsed": false,
    "ExecuteTime": {
     "end_time": "2024-05-18T15:56:30.252489Z",
     "start_time": "2024-05-18T15:56:19.868598Z"
    }
   },
   "id": "2e4f2dead7c41156",
   "execution_count": 46
  },
  {
   "cell_type": "code",
   "outputs": [
    {
     "name": "stdout",
     "output_type": "stream",
     "text": [
      "Number of samples in orpo_dpo_train: 39333\n",
      "Number of samples in orpo_dpo_val: 2185\n",
      "Number of samples in orpo_dpo_test: 2186\n"
     ]
    }
   ],
   "source": [
    "print(\"Number of samples in orpo_dpo_train:\", len(orpo_dpo_train))\n",
    "print(\"Number of samples in orpo_dpo_val:\", len(orpo_dpo_val))\n",
    "print(\"Number of samples in orpo_dpo_test:\", len(orpo_dpo_test))"
   ],
   "metadata": {
    "collapsed": false,
    "ExecuteTime": {
     "end_time": "2024-05-18T15:56:47.671296Z",
     "start_time": "2024-05-18T15:56:47.656296Z"
    }
   },
   "id": "6ad1185679d36962",
   "execution_count": 47
  }
 ],
 "metadata": {
  "kernelspec": {
   "display_name": "Python 3",
   "language": "python",
   "name": "python3"
  },
  "language_info": {
   "codemirror_mode": {
    "name": "ipython",
    "version": 2
   },
   "file_extension": ".py",
   "mimetype": "text/x-python",
   "name": "python",
   "nbconvert_exporter": "python",
   "pygments_lexer": "ipython2",
   "version": "2.7.6"
  }
 },
 "nbformat": 4,
 "nbformat_minor": 5
}
