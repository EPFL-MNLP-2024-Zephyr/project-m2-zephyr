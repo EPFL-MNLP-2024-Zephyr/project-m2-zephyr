{
 "cells": [
  {
   "cell_type": "code",
   "execution_count": 1,
   "id": "initial_id",
   "metadata": {
    "collapsed": true,
    "ExecuteTime": {
     "end_time": "2024-05-18T10:07:49.281883Z",
     "start_time": "2024-05-18T10:07:48.657847Z"
    }
   },
   "outputs": [],
   "source": [
    "import json\n",
    "import pandas as pd"
   ]
  },
  {
   "cell_type": "markdown",
   "source": [
    "# 1. Processing Preference Pairs Gathered from M1"
   ],
   "metadata": {
    "collapsed": false
   },
   "id": "f1ec2455a6262953"
  },
  {
   "cell_type": "markdown",
   "source": [
    "Collected data format: \n",
    "```json \n",
    "{\n",
    "    \"question_id\": <int>,\n",
    "    \"question_complete\": <str>,\n",
    "    \"course_id\": <int>,\n",
    "    \"preference\": [\n",
    "        {\n",
    "            \"A\": <str>,\n",
    "            \"B\": <str>,\n",
    "            \"overall\": <str>,\n",
    "            \"criteria\": {\n",
    "                \"overall\": <str>,\n",
    "                \"correctness\": <str>,\n",
    "                \"relevance\": <str>,\n",
    "                \"clarity\": <str>,\n",
    "                \"completeness\": <str>,\n",
    "                \"other\": <str>\n",
    "            }\n",
    "        },\n",
    "        ...\n",
    "    ]\n",
    "}\n",
    "```\n",
    "\n",
    "Processed data format:\n",
    "```json\n",
    "{\n",
    "    \"prompt\": \"...\",\n",
    "    \"chosen\": \"...\", \n",
    "    \"rejected\": \"...\"\n",
    "}\n",
    "```"
   ],
   "metadata": {
    "collapsed": false
   },
   "id": "f3d20e2692b1983a"
  },
  {
   "cell_type": "code",
   "outputs": [],
   "source": [
    "def process_preference_pairs(data):\n",
    "    processed_data = []\n",
    "    for d in data:\n",
    "        prompt = d[\"question_complete\"]\n",
    "        for p in d[\"preference\"]:\n",
    "            if p[\"overall\"] == \"A\":\n",
    "                chosen_option = \"A\"\n",
    "                rejected_option = \"B\"\n",
    "            elif p[\"overall\"] == \"B\":\n",
    "                chosen_option = \"B\"\n",
    "                rejected_option = \"A\" \n",
    "            else:  # skip if the overall preference is not A or B e.g. AB \n",
    "                continue\n",
    "                \n",
    "            if p[chosen_option] == \"...\" or p[rejected_option] == \"...\" or p[chosen_option] == \"\" or p[rejected_option] == \"\":\n",
    "                continue\n",
    "            processed_data.append({\n",
    "                \"prompt\": prompt,\n",
    "                \"chosen\": p[chosen_option],\n",
    "                \"rejected\": p[rejected_option]\n",
    "            })\n",
    "            \n",
    "    return processed_data"
   ],
   "metadata": {
    "collapsed": false,
    "ExecuteTime": {
     "end_time": "2024-05-18T10:07:49.296881Z",
     "start_time": "2024-05-18T10:07:49.286848Z"
    }
   },
   "id": "d9828f3517c935f7",
   "execution_count": 2
  },
  {
   "cell_type": "code",
   "outputs": [],
   "source": [
    " def load_data(file_path):\n",
    "    with open(file_path, \"r\") as f:\n",
    "        data = json.load(f)\n",
    "    return data"
   ],
   "metadata": {
    "collapsed": false,
    "ExecuteTime": {
     "end_time": "2024-05-18T10:07:49.311885Z",
     "start_time": "2024-05-18T10:07:49.298880Z"
    }
   },
   "id": "e7fa3224856489bd",
   "execution_count": 3
  },
  {
   "cell_type": "code",
   "outputs": [],
   "source": [
    "def convert_to_jsonl(data, file_path):\n",
    "    with open(file_path, \"w\") as f:\n",
    "        for d in data:\n",
    "            f.write(json.dumps(d) + \"\\n\")"
   ],
   "metadata": {
    "collapsed": false,
    "ExecuteTime": {
     "end_time": "2024-05-18T10:07:49.327885Z",
     "start_time": "2024-05-18T10:07:49.313850Z"
    }
   },
   "id": "bb3083e3ad5ffb5f",
   "execution_count": 4
  },
  {
   "cell_type": "code",
   "outputs": [
    {
     "data": {
      "text/plain": "      question_id                                  question_complete  \\\n0               0  Question: Consider the following contains func...   \n1               3  Question: What is the asymptotic work of <code...   \n2               4  Question: We have a collection of rectangles i...   \n3               5  Question: Which of the following scheduler pol...   \n4               7  Question: In this week's lecture, you have bee...   \n...           ...                                                ...   \n1517         7365  Question: Byzantine consistent broadcast (BCB)...   \n1518         7366  Question: If process i fails, then eventually ...   \n1519         7368  Question: What happens in the reliable broadca...   \n1520         7370  Question: Consider a network that is organized...   \n1521         7371  Question: Consider the transformation from bin...   \n\n      course_id                                         preference  \n0         15000  [{'A': 'The asymptotic depth of the contains f...  \n1         15000  [{'A': '...', 'B': '...', 'overall': 'A', 'cri...  \n2         15000  [{'A': 'Facts:\n- Rectangles in the plane have ...  \n3         15005  [{'A': 'Preemptive scheduling policies allow t...  \n4         15000  [{'A': 'For the computation g(g(1, x1), g(x2, ...  \n...         ...                                                ...  \n1517      15003  [{'A': 'In non-synchronous environments, intro...  \n1518      15003  [{'A': 'Yes, the statement is true. If process...  \n1519      15003  [{'A': 'If the completeness property of the fa...  \n1520      15003  [{'A': 'First, we can use a flooding algorithm...  \n1521      15004  [{'A': 'To prove that the transformation from ...  \n\n[1522 rows x 4 columns]",
      "text/html": "<div>\n<style scoped>\n    .dataframe tbody tr th:only-of-type {\n        vertical-align: middle;\n    }\n\n    .dataframe tbody tr th {\n        vertical-align: top;\n    }\n\n    .dataframe thead th {\n        text-align: right;\n    }\n</style>\n<table border=\"1\" class=\"dataframe\">\n  <thead>\n    <tr style=\"text-align: right;\">\n      <th></th>\n      <th>question_id</th>\n      <th>question_complete</th>\n      <th>course_id</th>\n      <th>preference</th>\n    </tr>\n  </thead>\n  <tbody>\n    <tr>\n      <th>0</th>\n      <td>0</td>\n      <td>Question: Consider the following contains func...</td>\n      <td>15000</td>\n      <td>[{'A': 'The asymptotic depth of the contains f...</td>\n    </tr>\n    <tr>\n      <th>1</th>\n      <td>3</td>\n      <td>Question: What is the asymptotic work of &lt;code...</td>\n      <td>15000</td>\n      <td>[{'A': '...', 'B': '...', 'overall': 'A', 'cri...</td>\n    </tr>\n    <tr>\n      <th>2</th>\n      <td>4</td>\n      <td>Question: We have a collection of rectangles i...</td>\n      <td>15000</td>\n      <td>[{'A': 'Facts:\n- Rectangles in the plane have ...</td>\n    </tr>\n    <tr>\n      <th>3</th>\n      <td>5</td>\n      <td>Question: Which of the following scheduler pol...</td>\n      <td>15005</td>\n      <td>[{'A': 'Preemptive scheduling policies allow t...</td>\n    </tr>\n    <tr>\n      <th>4</th>\n      <td>7</td>\n      <td>Question: In this week's lecture, you have bee...</td>\n      <td>15000</td>\n      <td>[{'A': 'For the computation g(g(1, x1), g(x2, ...</td>\n    </tr>\n    <tr>\n      <th>...</th>\n      <td>...</td>\n      <td>...</td>\n      <td>...</td>\n      <td>...</td>\n    </tr>\n    <tr>\n      <th>1517</th>\n      <td>7365</td>\n      <td>Question: Byzantine consistent broadcast (BCB)...</td>\n      <td>15003</td>\n      <td>[{'A': 'In non-synchronous environments, intro...</td>\n    </tr>\n    <tr>\n      <th>1518</th>\n      <td>7366</td>\n      <td>Question: If process i fails, then eventually ...</td>\n      <td>15003</td>\n      <td>[{'A': 'Yes, the statement is true. If process...</td>\n    </tr>\n    <tr>\n      <th>1519</th>\n      <td>7368</td>\n      <td>Question: What happens in the reliable broadca...</td>\n      <td>15003</td>\n      <td>[{'A': 'If the completeness property of the fa...</td>\n    </tr>\n    <tr>\n      <th>1520</th>\n      <td>7370</td>\n      <td>Question: Consider a network that is organized...</td>\n      <td>15003</td>\n      <td>[{'A': 'First, we can use a flooding algorithm...</td>\n    </tr>\n    <tr>\n      <th>1521</th>\n      <td>7371</td>\n      <td>Question: Consider the transformation from bin...</td>\n      <td>15004</td>\n      <td>[{'A': 'To prove that the transformation from ...</td>\n    </tr>\n  </tbody>\n</table>\n<p>1522 rows × 4 columns</p>\n</div>"
     },
     "execution_count": 5,
     "metadata": {},
     "output_type": "execute_result"
    }
   ],
   "source": [
    "pp_m1_json_file = \"raw_datasets/M1_preference_data_15052024.json\"\n",
    "pp_m1_jsonl_file = \"raw_datasets/M1_preference_data_15052024.jsonl\"\n",
    "pp_m1_data = load_data(pp_m1_json_file)\n",
    "\n",
    "df_pp_m1 = pd.DataFrame(pp_m1_data)\n",
    "df_pp_m1"
   ],
   "metadata": {
    "collapsed": false,
    "ExecuteTime": {
     "end_time": "2024-05-18T10:07:49.922847Z",
     "start_time": "2024-05-18T10:07:49.330852Z"
    }
   },
   "id": "2325521ba4cd306e",
   "execution_count": 5
  },
  {
   "cell_type": "code",
   "outputs": [
    {
     "data": {
      "text/plain": "                                                  prompt  \\\n0      Question: Consider the following contains func...   \n1      Question: Consider the following contains func...   \n2      Question: Consider the following contains func...   \n3      Question: Consider the following contains func...   \n4      Question: Consider the following contains func...   \n...                                                  ...   \n26636  Question: Consider the transformation from bin...   \n26637  Question: Consider the transformation from bin...   \n26638  Question: Consider the transformation from bin...   \n26639  Question: Consider the transformation from bin...   \n26640  Question: Consider the transformation from bin...   \n\n                                                  chosen  \\\n0      When `contains` is called on a List, the `drop...   \n1      To determine the asymptotic depth of the `cont...   \n2      To determine the asymptotic depth of the `cont...   \n3      To determine the asymptotic depth of the `cont...   \n4      The asymptotic depth of the contains function ...   \n...                                                  ...   \n26636  #### **Answer**: \\n\\nThe transformation from b...   \n26637  Consider the transformation from binary MRSW s...   \n26638  To prove that the transformation from binary M...   \n26639  To solve this problem, first, let's understand...   \n26640  To show that the transformation from binary MR...   \n\n                                                rejected  \n0      The asymptotic depth of the contains function ...  \n1      The asymptotic depth of the contains function ...  \n2      The asymptotic depth of the `contains` functio...  \n3      The contains function is a recursive function ...  \n4      When the contains function is called on a List...  \n...                                                  ...  \n26636  #### **Answer**:\\nThe transformation from bina...  \n26637  Let's consider the transformation from binary ...  \n26638  First, let's define the terms:\\n\\n- Binary MRS...  \n26639  Background Information:\\n- Triple Data Encrypt...  \n26640  To show that the transformation from binary MR...  \n\n[26641 rows x 3 columns]",
      "text/html": "<div>\n<style scoped>\n    .dataframe tbody tr th:only-of-type {\n        vertical-align: middle;\n    }\n\n    .dataframe tbody tr th {\n        vertical-align: top;\n    }\n\n    .dataframe thead th {\n        text-align: right;\n    }\n</style>\n<table border=\"1\" class=\"dataframe\">\n  <thead>\n    <tr style=\"text-align: right;\">\n      <th></th>\n      <th>prompt</th>\n      <th>chosen</th>\n      <th>rejected</th>\n    </tr>\n  </thead>\n  <tbody>\n    <tr>\n      <th>0</th>\n      <td>Question: Consider the following contains func...</td>\n      <td>When `contains` is called on a List, the `drop...</td>\n      <td>The asymptotic depth of the contains function ...</td>\n    </tr>\n    <tr>\n      <th>1</th>\n      <td>Question: Consider the following contains func...</td>\n      <td>To determine the asymptotic depth of the `cont...</td>\n      <td>The asymptotic depth of the contains function ...</td>\n    </tr>\n    <tr>\n      <th>2</th>\n      <td>Question: Consider the following contains func...</td>\n      <td>To determine the asymptotic depth of the `cont...</td>\n      <td>The asymptotic depth of the `contains` functio...</td>\n    </tr>\n    <tr>\n      <th>3</th>\n      <td>Question: Consider the following contains func...</td>\n      <td>To determine the asymptotic depth of the `cont...</td>\n      <td>The contains function is a recursive function ...</td>\n    </tr>\n    <tr>\n      <th>4</th>\n      <td>Question: Consider the following contains func...</td>\n      <td>The asymptotic depth of the contains function ...</td>\n      <td>When the contains function is called on a List...</td>\n    </tr>\n    <tr>\n      <th>...</th>\n      <td>...</td>\n      <td>...</td>\n      <td>...</td>\n    </tr>\n    <tr>\n      <th>26636</th>\n      <td>Question: Consider the transformation from bin...</td>\n      <td>#### **Answer**: \\n\\nThe transformation from b...</td>\n      <td>#### **Answer**:\\nThe transformation from bina...</td>\n    </tr>\n    <tr>\n      <th>26637</th>\n      <td>Question: Consider the transformation from bin...</td>\n      <td>Consider the transformation from binary MRSW s...</td>\n      <td>Let's consider the transformation from binary ...</td>\n    </tr>\n    <tr>\n      <th>26638</th>\n      <td>Question: Consider the transformation from bin...</td>\n      <td>To prove that the transformation from binary M...</td>\n      <td>First, let's define the terms:\\n\\n- Binary MRS...</td>\n    </tr>\n    <tr>\n      <th>26639</th>\n      <td>Question: Consider the transformation from bin...</td>\n      <td>To solve this problem, first, let's understand...</td>\n      <td>Background Information:\\n- Triple Data Encrypt...</td>\n    </tr>\n    <tr>\n      <th>26640</th>\n      <td>Question: Consider the transformation from bin...</td>\n      <td>To show that the transformation from binary MR...</td>\n      <td>To show that the transformation from binary MR...</td>\n    </tr>\n  </tbody>\n</table>\n<p>26641 rows × 3 columns</p>\n</div>"
     },
     "execution_count": 6,
     "metadata": {},
     "output_type": "execute_result"
    }
   ],
   "source": [
    "#Process the preference pairs\n",
    "pp_m1_jsonl_file = \"datasets/M1_preference_data_15052024.jsonl\"\n",
    "pp_m1_processed = process_preference_pairs(pp_m1_data)\n",
    "convert_to_jsonl(pp_m1_processed, pp_m1_jsonl_file)\n",
    "\n",
    "df_pp_m1_processed = pd.DataFrame(pp_m1_processed)\n",
    "df_pp_m1_processed"
   ],
   "metadata": {
    "collapsed": false,
    "ExecuteTime": {
     "end_time": "2024-05-18T10:07:51.527063Z",
     "start_time": "2024-05-18T10:07:49.923848Z"
    }
   },
   "id": "e641827a2707e83b",
   "execution_count": 6
  },
  {
   "cell_type": "code",
   "outputs": [],
   "source": [],
   "metadata": {
    "collapsed": false,
    "ExecuteTime": {
     "end_time": "2024-05-18T10:07:51.542974Z",
     "start_time": "2024-05-18T10:07:51.528853Z"
    }
   },
   "id": "1232887256472d5e",
   "execution_count": 6
  }
 ],
 "metadata": {
  "kernelspec": {
   "display_name": "Python 3",
   "language": "python",
   "name": "python3"
  },
  "language_info": {
   "codemirror_mode": {
    "name": "ipython",
    "version": 2
   },
   "file_extension": ".py",
   "mimetype": "text/x-python",
   "name": "python",
   "nbconvert_exporter": "python",
   "pygments_lexer": "ipython2",
   "version": "2.7.6"
  }
 },
 "nbformat": 4,
 "nbformat_minor": 5
}
